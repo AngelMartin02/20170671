{
  "cells": [
    {
      "attachments": {},
      "cell_type": "markdown",
      "metadata": {},
      "source": [
        "# Strings y Diccionarios\n",
        "\n",
        "En este JNB se revisará el tema de Strings y Diccionarios."
      ]
    },
    {
      "cell_type": "code",
      "execution_count": 1,
      "metadata": {},
      "outputs": [],
      "source": [
        "claim = \"No me gusto el producto de shein que ordene\""
      ]
    },
    {
      "cell_type": "code",
      "execution_count": 2,
      "metadata": {
        "id": "O8NoTzxjs2wK",
        "outputId": "fa4bc249-a4fa-48a6-9dc6-7733646ed223"
      },
      "outputs": [
        {
          "name": "stdout",
          "output_type": "stream",
          "text": [
            "['No', 'me', 'gusto', 'el', 'producto', 'de', 'shein', 'que', 'ordene']\n"
          ]
        }
      ],
      "source": [
        "\n",
        "words = claim.split()\n",
        "print(words)"
      ]
    },
    {
      "cell_type": "code",
      "execution_count": 3,
      "metadata": {},
      "outputs": [
        {
          "name": "stdout",
          "output_type": "stream",
          "text": [
            "['2020', '10', '10']\n"
          ]
        }
      ],
      "source": [
        "datester = \"2020-10-10\"\n",
        "date = datester.split(\"-\")\n",
        "print(date)"
      ]
    },
    {
      "cell_type": "code",
      "execution_count": 7,
      "metadata": {},
      "outputs": [
        {
          "name": "stdout",
          "output_type": "stream",
          "text": [
            "tomteros/Algodoneros/Naranjeros/Venados/Cañeros\n"
          ]
        }
      ],
      "source": [
        "lista=[\"tomteros\",\"Algodoneros\", \"Naranjeros\", \"Venados\", \"Cañeros\"]\n",
        "print(\"/\".join(lista))"
      ]
    },
    {
      "cell_type": "code",
      "execution_count": 4,
      "metadata": {},
      "outputs": [
        {
          "ename": "NameError",
          "evalue": "name 'month' is not defined",
          "output_type": "error",
          "traceback": [
            "\u001b[0;31m---------------------------------------------------------------------------\u001b[0m",
            "\u001b[0;31mNameError\u001b[0m                                 Traceback (most recent call last)",
            "\u001b[1;32m/workspaces/20170671/06. StringsDictionaries.ipynb Celda 5\u001b[0m line \u001b[0;36m1\n\u001b[0;32m----> <a href='vscode-notebook-cell://codespaces%2Blegendary-carnival-5gq5x9qgjj99hpggw/workspaces/20170671/06.%20StringsDictionaries.ipynb#W4sdnNjb2RlLXJlbW90ZQ%3D%3D?line=0'>1</a>\u001b[0m \u001b[39m\"\u001b[39m\u001b[39m/\u001b[39m\u001b[39m\"\u001b[39m\u001b[39m.\u001b[39mjoin([month, day, year])\n",
            "\u001b[0;31mNameError\u001b[0m: name 'month' is not defined"
          ]
        }
      ],
      "source": [
        "\"/\".join([month, day, year])"
      ]
    },
    {
      "cell_type": "code",
      "execution_count": 21,
      "metadata": {},
      "outputs": [
        {
          "name": "stdout",
          "output_type": "stream",
          "text": [
            "anitalavalatina\n"
          ]
        }
      ],
      "source": [
        "texto = \"anita lava la tina\"\n",
        "texto2= texto[::-1]\n",
        "print(\"\".join(texto.split()))"
      ]
    },
    {
      "cell_type": "code",
      "execution_count": 28,
      "metadata": {},
      "outputs": [
        {
          "name": "stdout",
          "output_type": "stream",
          "text": [
            "anita lava la tina\n"
          ]
        }
      ],
      "source": [
        "texto = texto.replace(\" \",\" \")\n",
        "print(texto)"
      ]
    },
    {
      "cell_type": "code",
      "execution_count": 32,
      "metadata": {},
      "outputs": [
        {
          "name": "stdout",
          "output_type": "stream",
          "text": [
            "pi = 3.14\n"
          ]
        }
      ],
      "source": [
        "pi = 3.141592653589793\n",
        "print(\"pi = {:.2f}\".format(pi))"
      ]
    },
    {
      "cell_type": "code",
      "execution_count": 41,
      "metadata": {},
      "outputs": [
        {
          "name": "stdout",
          "output_type": "stream",
          "text": [
            "3.1\n"
          ]
        }
      ],
      "source": [
        "print(\"{:.2}\".format(pi))"
      ]
    }
  ],
  "metadata": {
    "colab": {
      "include_colab_link": true,
      "provenance": []
    },
    "kernelspec": {
      "display_name": "Python 3.10.7 64-bit",
      "language": "python",
      "name": "python3"
    },
    "language_info": {
      "codemirror_mode": {
        "name": "ipython",
        "version": 3
      },
      "file_extension": ".py",
      "mimetype": "text/x-python",
      "name": "python",
      "nbconvert_exporter": "python",
      "pygments_lexer": "ipython3",
      "version": "3.10.8"
    },
    "orig_nbformat": 4,
    "vscode": {
      "interpreter": {
        "hash": "eb4a0ac80907d7f44e1a5e88d3d3381b33e3dbedd3a24d113e876f30a0c46bee"
      }
    }
  },
  "nbformat": 4,
  "nbformat_minor": 0
}
